{
 "cells": [
  {
   "cell_type": "markdown",
   "metadata": {},
   "source": [
    "1) Write a python program which creates a class named Cone and write a\n",
    "function calculate_area which calculates the area of the Cone.\n",
    "Sample Execution:\n",
    "Please enter the radius of the cone: 4\n",
    "Please enter the height of the cone: 5\n",
    "Area of a cone with radius: 4.00 and height: 5.00 is: 83.73"
   ]
  },
  {
   "cell_type": "code",
   "execution_count": 16,
   "metadata": {},
   "outputs": [],
   "source": [
    "import math as math\n",
    "class Cone:\n",
    "    def __init__(self, radius, height):\n",
    "        self.radius = radius\n",
    "        self.height = height\n",
    "    def calculate_area(self):\n",
    "        Area = math.pi * self.radius * (self.radius + (math.sqrt((self.height*self.height) + (self.radius * self.radius))))\n",
    "        print(\"Area of a cone with radius: %.2f and height: %.2f is: %.2f\" % (self.radius,self.height,Area))\n",
    "    def calculate_volume(self):\n",
    "        Volume = math.pi * self.radius * self.radius * (self.height / 3)\n",
    "        print(\"Volume of a cone with radius: %.2f and height: %.2f is: %.2f\" % (self.radius,self.height,Volume))"
   ]
  },
  {
   "cell_type": "code",
   "execution_count": 17,
   "metadata": {},
   "outputs": [
    {
     "name": "stdout",
     "output_type": "stream",
     "text": [
      "Please enter the radius of the cone:4\n",
      "Please enter the height of the cone:5\n",
      "Area of a cone with radius: 4.00 and height: 5.00 is: 130.73\n",
      "Volume of a cone with radius: 4.00 and height: 5.00 is: 83.78\n"
     ]
    }
   ],
   "source": [
    "radius = float(input(\"Please enter the radius of the cone:\"))\n",
    "height = float(input(\"Please enter the height of the cone:\"))\n",
    "cone1 = Cone(radius, height)\n",
    "cone1.calculate_area()\n",
    "cone1.calculate_volume()"
   ]
  },
  {
   "cell_type": "markdown",
   "metadata": {},
   "source": [
    "2) Define a class MathOperation which implements pow(x,n) without using\n",
    "python's in-built pow() method\n",
    "Sample Execution:\n",
    "M = MathOperation()\n",
    "print(M.pow(2, 3))\n",
    "8\n",
    "print(M.pow(5, -3))\n",
    "0.008\n",
    "print(M.pow(-2, 5))\n",
    "-32\n",
    "print(M.pow(-5, -3))\n",
    "-0.008\n",
    "print(M.pow(20000,0))\n",
    "1"
   ]
  },
  {
   "cell_type": "code",
   "execution_count": 27,
   "metadata": {},
   "outputs": [],
   "source": [
    "class MathOperation:\n",
    "    \n",
    "    def pow(self,num1,num2):\n",
    "        return (num1 ** num2)"
   ]
  },
  {
   "cell_type": "code",
   "execution_count": 28,
   "metadata": {},
   "outputs": [
    {
     "name": "stdout",
     "output_type": "stream",
     "text": [
      "8\n",
      "0.008\n",
      "-32\n",
      "-0.008\n",
      "1\n"
     ]
    }
   ],
   "source": [
    "M = MathOperation()\n",
    "print(M.pow(2,3))\n",
    "print(M.pow(5, -3))\n",
    "print(M.pow(-2, 5))\n",
    "print(M.pow(-5, -3))\n",
    "print(M.pow(20000,0)) "
   ]
  },
  {
   "cell_type": "markdown",
   "metadata": {},
   "source": [
    "3) Write a python program that creates a class Base and Derived. Use inbuilt\n",
    "function issubclass and isinstance which gives boolean results.(True or\n",
    "False)\n",
    "Check:\n",
    "Derived class is a subclass of Base class which will return true\n",
    "Base class is a subclass of Derived class which will return false\n",
    "Base class is an instance of Derived class which will return false\n",
    "Derived class is an instance of Base class which will return true"
   ]
  },
  {
   "cell_type": "code",
   "execution_count": 43,
   "metadata": {},
   "outputs": [
    {
     "name": "stdout",
     "output_type": "stream",
     "text": [
      "Check:\n",
      "Derived class is a subclass of Base class which will return True\n",
      "Base class is a subclass of Derived class which will return False\n",
      "Base class is an instance of Derived class which will return False\n",
      "Derived class is an instance of Base class which will return True\n"
     ]
    }
   ],
   "source": [
    "class Base:\n",
    "    pass\n",
    "class Derived(Base):\n",
    "    pass\n",
    "M = Base()\n",
    "N = Derived()\n",
    "\n",
    "print(\"Check:\")\n",
    "print(\"Derived class is a subclass of Base class which will return\", issubclass(Derived,Base))\n",
    "print(\"Base class is a subclass of Derived class which will return\", issubclass(Base,Derived))\n",
    "print(\"Base class is an instance of Derived class which will return\", isinstance(M,Derived))\n",
    "print(\"Derived class is an instance of Base class which will return\", isinstance(N,Base))"
   ]
  },
  {
   "cell_type": "markdown",
   "metadata": {},
   "source": [
    "4) Write a python program that creates base class Person which has two\n",
    "methods\n",
    "def __init__(self, first, last)\n",
    "def __str__(self)\n",
    "Also create a derived class named Employee which uses the base class\n",
    "method “def __str__(self)” using “super()” to concatenate first name wit\n",
    "h last name"
   ]
  },
  {
   "cell_type": "code",
   "execution_count": 80,
   "metadata": {},
   "outputs": [],
   "source": [
    "class Person:\n",
    "    def __init__(self, first, last):\n",
    "        self.first = first\n",
    "        self.last = last\n",
    "    def __str__(self):\n",
    "        return (self.first + self.last)\n",
    "class Employee(Person):\n",
    "    def __init__(self, first, last):\n",
    "        super().__init__(first, last)"
   ]
  },
  {
   "cell_type": "code",
   "execution_count": 82,
   "metadata": {},
   "outputs": [
    {
     "name": "stdout",
     "output_type": "stream",
     "text": [
      "DonaldDuck\n"
     ]
    }
   ],
   "source": [
    "\n",
    "E = Employee('Donald','Duck')\n",
    "print(E.__str__())"
   ]
  },
  {
   "cell_type": "code",
   "execution_count": null,
   "metadata": {},
   "outputs": [],
   "source": []
  }
 ],
 "metadata": {
  "kernelspec": {
   "display_name": "Python 3",
   "language": "python",
   "name": "python3"
  },
  "language_info": {
   "codemirror_mode": {
    "name": "ipython",
    "version": 3
   },
   "file_extension": ".py",
   "mimetype": "text/x-python",
   "name": "python",
   "nbconvert_exporter": "python",
   "pygments_lexer": "ipython3",
   "version": "3.7.0"
  }
 },
 "nbformat": 4,
 "nbformat_minor": 2
}
