{
 "cells": [
  {
   "cell_type": "markdown",
   "metadata": {},
   "source": [
    "1.1 Write a Python Program(with class concepts) to find the area of the triangle using the below\n",
    "formula.\n",
    "area = (s*(s-a)*(s-b)*(s-c)) ** 0.5\n",
    "Function to take the length of the sides of triangle from user should be defined in the parent\n",
    "class and function to calculate the area should be defined in subclass."
   ]
  },
  {
   "cell_type": "code",
   "execution_count": 8,
   "metadata": {},
   "outputs": [
    {
     "data": {
      "text/plain": [
       "24.0"
      ]
     },
     "execution_count": 8,
     "metadata": {},
     "output_type": "execute_result"
    }
   ],
   "source": [
    "class Calc_Area:\n",
    "    def __init__(self,a,b,c):\n",
    "        self.a = a\n",
    "        self.b = b\n",
    "        self.c = c\n",
    "class Triangle(Calc_Area):\n",
    "    def __init__(self,a,b,c):\n",
    "        super().__init__(a,b,c)\n",
    "    def calculate(self):\n",
    "        s = (self.a + self.b + self.c)* 0.5\n",
    "        self.area = (s*(s-self.a)*(s-self.b)*(s-self.c)) ** 0.5\n",
    "        return self.area\n",
    "\n",
    "Area1 = Triangle(4,13,15)\n",
    "\n",
    "Area1.calculate()"
   ]
  },
  {
   "cell_type": "markdown",
   "metadata": {},
   "source": [
    "1.2 Write a function filter_long_words() that takes a list of words and an integer n and returns\n",
    "the list of words that are longer than n."
   ]
  },
  {
   "cell_type": "code",
   "execution_count": 4,
   "metadata": {},
   "outputs": [
    {
     "name": "stdout",
     "output_type": "stream",
     "text": [
      "['Feburary', 'January']\n"
     ]
    }
   ],
   "source": [
    "#initialise the list\n",
    "words_list= [\"January\",\"Feburary\",\"March\",\"April\",\"May\",\"June\",\"July\"]\n",
    "\n",
    "#define the function \n",
    "def filter_long_words(words,n):\n",
    "    #initialise empty list to calculate the word length\n",
    "    word_len = []\n",
    "    \n",
    "    #to traverse throught the words_list\n",
    "    for i in words:\n",
    "        \n",
    "        #appending each words which are longer than n\n",
    "        if len(i) > n:\n",
    "            word_len.append(i)\n",
    "    \n",
    "    #sorting the word_len\n",
    "    word_len.sort()\n",
    "    \n",
    "    \n",
    "    return word_len\n",
    "\n",
    "#Pass words_list and integer as the argument for function call\n",
    "print(filter_long_words(words_list,5))"
   ]
  },
  {
   "cell_type": "markdown",
   "metadata": {},
   "source": [
    "2.1 Write a Python program using function concept that maps list of words into a list of integers\n",
    "representing the lengths of the corresponding words."
   ]
  },
  {
   "cell_type": "code",
   "execution_count": 12,
   "metadata": {},
   "outputs": [
    {
     "name": "stdout",
     "output_type": "stream",
     "text": [
      "[(2, 'ab'), (3, 'cde'), (4, 'erty')]\n"
     ]
    }
   ],
   "source": [
    "#initialise the list\n",
    "words_list= [\"ab\",\"cde\",\"erty\"]\n",
    "\n",
    "#define the function \n",
    "def map_word_int(words):\n",
    "    #initialise empty list to calculate the word length\n",
    "    word_len = []\n",
    "    \n",
    "    #to traverse throught the words_list\n",
    "    for i in words:\n",
    "        \n",
    "        #appending each words and corresponding length\n",
    "            word_len.append((len(i),i))\n",
    "    \n",
    "    return word_len\n",
    "\n",
    "#Pass words_list and integer as the argument for function call\n",
    "print(map_word_int(words_list))"
   ]
  },
  {
   "cell_type": "markdown",
   "metadata": {},
   "source": [
    "2.2 Write a Python function which takes a character (i.e. a string of length 1) and returns True if\n",
    "it is a vowel, False otherwise"
   ]
  },
  {
   "cell_type": "code",
   "execution_count": 17,
   "metadata": {},
   "outputs": [
    {
     "name": "stdout",
     "output_type": "stream",
     "text": [
      "True\n"
     ]
    }
   ],
   "source": [
    "vowel = ['a','e','i','o','u']\n",
    "def vowelcheck(inp):\n",
    "    for i in vowel:\n",
    "        if inp.lower() == i:\n",
    "            return True\n",
    "    return False\n",
    "\n",
    "print(vowelcheck('O'))"
   ]
  },
  {
   "cell_type": "code",
   "execution_count": null,
   "metadata": {},
   "outputs": [],
   "source": []
  }
 ],
 "metadata": {
  "kernelspec": {
   "display_name": "Python 3",
   "language": "python",
   "name": "python3"
  },
  "language_info": {
   "codemirror_mode": {
    "name": "ipython",
    "version": 3
   },
   "file_extension": ".py",
   "mimetype": "text/x-python",
   "name": "python",
   "nbconvert_exporter": "python",
   "pygments_lexer": "ipython3",
   "version": "3.7.0"
  }
 },
 "nbformat": 4,
 "nbformat_minor": 2
}
